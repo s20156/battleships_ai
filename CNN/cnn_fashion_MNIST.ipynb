{
 "cells": [
  {
   "cell_type": "markdown",
   "metadata": {},
   "source": [
    "Fashion CNN"
   ]
  },
  {
   "cell_type": "code",
   "execution_count": 27,
   "metadata": {},
   "outputs": [],
   "source": [
    "from keras.datasets import fashion_mnist\n",
    "from tensorflow.keras.models import Sequential\n",
    "from tensorflow.keras.layers import Conv2D, MaxPooling2D, Dense, Flatten\n",
    "from tensorflow.keras.optimizers import Adam\n",
    "import matplotlib.pyplot as plt\n",
    "import numpy as np"
   ]
  },
  {
   "cell_type": "markdown",
   "metadata": {},
   "source": [
    "Split data"
   ]
  },
  {
   "cell_type": "code",
   "execution_count": null,
   "metadata": {},
   "outputs": [],
   "source": [
    "(trainX, trainy), (testX, testy) = fashion_mnist.load_data()"
   ]
  },
  {
   "cell_type": "code",
   "execution_count": null,
   "metadata": {},
   "outputs": [],
   "source": [
    "print('Train: X = ', trainX.shape)\n",
    "print('Test: X = ', testX.shape)"
   ]
  },
  {
   "cell_type": "markdown",
   "metadata": {},
   "source": [
    "Creating image grid 3x3, insert gray images."
   ]
  },
  {
   "cell_type": "code",
   "execution_count": null,
   "metadata": {},
   "outputs": [],
   "source": [
    "for i in range(1, 10):\n",
    "\tplt.subplot(3, 3, i)\n",
    "\tplt.imshow(trainX[i], cmap=plt.get_cmap('gray'))"
   ]
  },
  {
   "cell_type": "code",
   "execution_count": null,
   "metadata": {},
   "outputs": [],
   "source": [
    "plt.show()"
   ]
  },
  {
   "cell_type": "code",
   "execution_count": null,
   "metadata": {},
   "outputs": [],
   "source": [
    "trainX = np.expand_dims(trainX, -1)\n",
    "testX = np.expand_dims(testX, -1)"
   ]
  },
  {
   "cell_type": "code",
   "execution_count": null,
   "metadata": {},
   "outputs": [],
   "source": [
    "print(trainX.shape)"
   ]
  },
  {
   "cell_type": "code",
   "execution_count": null,
   "metadata": {},
   "outputs": [],
   "source": [
    "plt.matshow(X_train[0])"
   ]
  },
  {
   "cell_type": "markdown",
   "metadata": {},
   "source": [
    "64 filters, 5x5 kernel, Maxpooling to reduce  dimensions on next convolutional layer, flattening pooling layer, connecting layers, 10classes in FCC layer."
   ]
  },
  {
   "cell_type": "code",
   "execution_count": null,
   "metadata": {},
   "outputs": [],
   "source": [
    "def model_arch():\n",
    "\tmodels = Sequential()\n",
    "\t\n",
    "\tmodels.add(Conv2D(64, (5, 5),\n",
    "\t\t\t\t\tpadding=\"same\",\n",
    "\t\t\t\t\tactivation=\"relu\",\n",
    "\t\t\t\t\tinput_shape=(28, 28, 1)))\n",
    "\t\n",
    "\tmodels.add(MaxPooling2D(pool_size=(2, 2)))\n",
    "\tmodels.add(Conv2D(128, (5, 5), padding=\"same\",\n",
    "\t\t\t\t\tactivation=\"relu\"))\n",
    "\t\n",
    "\tmodels.add(MaxPooling2D(pool_size=(2, 2)))\n",
    "\tmodels.add(Conv2D(256, (5, 5), padding=\"same\",\n",
    "\t\t\t\t\tactivation=\"relu\"))\n",
    "\t\n",
    "\tmodels.add(MaxPooling2D(pool_size=(2, 2)))\n",
    "\t\n",
    "\tmodels.add(Flatten())\n",
    "\tmodels.add(Dense(256, activation=\"relu\"))\n",
    "\n",
    "\tmodels.add(Dense(10, activation=\"softmax\"))\n",
    "\treturn models\n"
   ]
  },
  {
   "cell_type": "markdown",
   "metadata": {},
   "source": [
    "Compilation and build of models."
   ]
  },
  {
   "cell_type": "code",
   "execution_count": 34,
   "metadata": {},
   "outputs": [],
   "source": [
    "\n",
    "model = model_arch()\n",
    " \n",
    "model.compile(optimizer=Adam(learning_rate=1e-3),\n",
    "              loss='sparse_categorical_crossentropy',\n",
    "              metrics=['sparse_categorical_accuracy'])\n",
    " \n",
    "model.summary()"
   ]
  },
  {
   "cell_type": "markdown",
   "metadata": {},
   "source": [
    "Model train for 10 epohs(100 step)"
   ]
  },
  {
   "cell_type": "code",
   "execution_count": null,
   "metadata": {
    "scrolled": true
   },
   "outputs": [],
   "source": [
    "history = model.fit(\n",
    "\ttrainX.astype(np.float32), trainy.astype(np.float32),\n",
    "\tepochs=10,\n",
    "\tsteps_per_epoch=100,\n",
    "\tvalidation_split=0.33\n",
    ")"
   ]
  },
  {
   "cell_type": "code",
   "execution_count": null,
   "metadata": {},
   "outputs": [],
   "source": [
    "model.save_weights('./model.h5', overwrite=True)\n"
   ]
  },
  {
   "cell_type": "markdown",
   "metadata": {},
   "source": [
    "Outpout labels"
   ]
  },
  {
   "cell_type": "code",
   "execution_count": null,
   "metadata": {},
   "outputs": [],
   "source": [
    "labels = ['t_shirt', 'trouser', 'pullover', 'dress', 'coat',\n",
    "\t\t'sandal', 'shirt', 'sneaker', 'bag', 'ankle_boots']\n",
    "predictions = model.predict(testX[:1])\n",
    "label = labels[np.argmax(predictions)]\n",
    "\n",
    "print(label)\n",
    "plt.imshow(testX[:1][0])\n",
    "plt.show()"
   ]
  }
 ],
 "metadata": {
  "kernelspec": {
   "display_name": "Python 3",
   "language": "python",
   "name": "python3"
  },
  "language_info": {
   "codemirror_mode": {
    "name": "ipython",
    "version": 3
   },
   "file_extension": ".py",
   "mimetype": "text/x-python",
   "name": "python",
   "nbconvert_exporter": "python",
   "pygments_lexer": "ipython3",
   "version": "3.8.5"
  }
 },
 "nbformat": 4,
 "nbformat_minor": 4
}
